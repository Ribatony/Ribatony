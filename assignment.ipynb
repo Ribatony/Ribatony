{
 "cells": [
  {
   "cell_type": "code",
   "execution_count": 7,
   "id": "a6540be8-f65a-4a15-9ea0-21f8074e2c2f",
   "metadata": {},
   "outputs": [
    {
     "ename": "SyntaxError",
     "evalue": "invalid syntax (726816926.py, line 61)",
     "output_type": "error",
     "traceback": [
      "\u001b[1;36m  Cell \u001b[1;32mIn[7], line 61\u001b[1;36m\u001b[0m\n\u001b[1;33m    - **Species Distribution:** The dataset contains three species: Setosa, Versicolor, and Virginica, with an equal number of samples for each species.\u001b[0m\n\u001b[1;37m      ^\u001b[0m\n\u001b[1;31mSyntaxError\u001b[0m\u001b[1;31m:\u001b[0m invalid syntax\n"
     ]
    }
   ],
   "source": [
    "import pandas as pd\n",
    "import matplotlib.pyplot as plt\n",
    "import seaborn as sns\n",
    "# Load the dataset\n",
    "url = 'https://raw.githubusercontent.com/mwaskom/seaborn-data/master/iris.csv'\n",
    "try:\n",
    "    df = pd.read_csv(url)\n",
    "except FileNotFoundError:\n",
    "    print(\"Error: The file was not found.\")\n",
    "except pd.errors.ParserError:\n",
    "    print(\"Error: There was an issue parsing the file.\")\n",
    "except Exception as e:\n",
    "    print(f\"An unexpected error occurred: {e}\")\n",
    "# Display the first few rows of the dataset\n",
    "df.head()\n",
    "# Explore the structure of the dataset\n",
    "df.info()\n",
    "# Explore the structure of the dataset\n",
    "df.info()\n",
    "# Clean the dataset (if any missing values, either fill or drop)\n",
    "df = df.dropna()\n",
    "# Compute basic statistics of the numerical columns\n",
    "df.describe()\n",
    "# Perform groupings and compute the mean of a numerical column for each group\n",
    "mean_features_by_species = df.groupby('species').mean()\n",
    "mean_features_by_species\n",
    "# Example: Analyzing the mean petal length for each species\n",
    "mean_features_by_species['petal_length']\n",
    "import matplotlib.pyplot as plt\n",
    "import seaborn as sns\n",
    "\n",
    "# Set the aesthetic style of the plots\n",
    "sns.set_style(\"whitegrid\")\n",
    "# Example line chart (skip for Iris dataset)\n",
    "df['date'] = pd.to_datetime(df['date'])  # Ensure 'date' column is datetime\n",
    "df.set_index('date').plot(y='value')  # Replace 'value' with your column name\n",
    "plt.title('Trend Over Time')\n",
    "plt.xlabel('Date')\n",
    "plt.ylabel('Value')\n",
    "plt.show()\n",
    "# Bar chart showing the comparison of a numerical value across categories\n",
    "mean_features_by_species['petal_length'].plot(kind='bar', title='Average Petal Length per Species')\n",
    "plt.xlabel('Species')\n",
    "plt.ylabel('Average Petal Length')\n",
    "plt.show()\n",
    "# Histogram of a numerical column to understand its distribution\n",
    "df['petal_length'].hist(bins=20)\n",
    "plt.title('Distribution of Petal Length')\n",
    "plt.xlabel('Petal Length')\n",
    "plt.ylabel('Frequency')\n",
    "plt.show()\n",
    "# Scatter plot to visualize the relationship between two numerical columns\n",
    "sns.scatterplot(data=df, x='sepal_length', y='petal_length', hue='species')\n",
    "plt.title('Sepal Length vs. Petal Length')\n",
    "plt.xlabel('Sepal Length')\n",
    "plt.ylabel('Petal Length')\n",
    "plt.legend(title='Species')\n",
    "plt.show()\n",
    "# Findings or Observations\n",
    "\n",
    "- **Species Distribution:** The dataset contains three species: Setosa, Versicolor, and Virginica, with an equal number of samples for each species.\n",
    "- **Feature Analysis:** The mean values for each feature (sepal length, sepal width, petal length, petal width) vary across different species.\n",
    "- **Visualization Insights:**\n",
    "  - The bar chart shows the average petal length per species, indicating different growth patterns among species.\n",
    "  - The histogram of petal length shows its distribution, which can help identify outliers or skewness in the data.\n",
    "  - The scatter plot of sepal length vs. petal length reveals relationships and clustering patterns between species.\n",
    "\n",
    "\n"
   ]
  },
  {
   "cell_type": "raw",
   "id": "f32d95e3-db96-4327-9831-2fa22ca75c6f",
   "metadata": {},
   "source": []
  }
 ],
 "metadata": {
  "kernelspec": {
   "display_name": "Python 3 (ipykernel)",
   "language": "python",
   "name": "python3"
  },
  "language_info": {
   "codemirror_mode": {
    "name": "ipython",
    "version": 3
   },
   "file_extension": ".py",
   "mimetype": "text/x-python",
   "name": "python",
   "nbconvert_exporter": "python",
   "pygments_lexer": "ipython3",
   "version": "3.12.7"
  }
 },
 "nbformat": 4,
 "nbformat_minor": 5
}
